{
  "nbformat": 4,
  "nbformat_minor": 0,
  "metadata": {
    "colab": {
      "name": "WakeME_Results.ipynb",
      "provenance": [],
      "collapsed_sections": [],
      "toc_visible": true
    },
    "kernelspec": {
      "display_name": "Python 3",
      "name": "python3"
    },
    "language_info": {
      "name": "python"
    },
    "accelerator": "GPU"
  },
  "cells": [
    {
      "cell_type": "markdown",
      "metadata": {
        "id": "hWpt_lNIcA7A"
      },
      "source": [
        "This jp notebooks help to analyze metrics from different model training"
      ]
    },
    {
      "cell_type": "markdown",
      "metadata": {
        "id": "82xIaeXAOmXz"
      },
      "source": [
        "This jp notebook analyzes metrics from multiple model evaluations to address questions below:\n",
        "\n",
        "1. Which one is better for wakeword?:\n",
        "  \n",
        "   Long vs Short\n",
        "\n",
        "2. What is the significance of first word in wake phrase? Which one is better? : \n",
        "\n",
        "  \"Fourthbrain\" vs \"Hey Fourthbrain\" vs \"Hello Fourthbrain\""
      ]
    },
    {
      "cell_type": "markdown",
      "metadata": {
        "id": "jfySlnfOj1Lx"
      },
      "source": [
        "# Load libraries"
      ]
    },
    {
      "cell_type": "code",
      "metadata": {
        "id": "OPHDB2CqcNst"
      },
      "source": [
        "from google.colab import drive\n",
        "import pandas as pd\n",
        "import os\n",
        "import librosa\n",
        "import warnings\n",
        "import numpy as np\n",
        "import glob\n",
        "from pathlib import Path\n",
        "from tensorflow import keras\n",
        "import matplotlib.pyplot as plt\n"
      ],
      "execution_count": 11,
      "outputs": []
    },
    {
      "cell_type": "code",
      "metadata": {
        "colab": {
          "base_uri": "https://localhost:8080/"
        },
        "id": "d1G6Wd5Hk51B",
        "outputId": "c49e6644-ce36-491e-c82c-748363779506"
      },
      "source": [
        "drive.mount('/content/drive')"
      ],
      "execution_count": 12,
      "outputs": [
        {
          "output_type": "stream",
          "name": "stdout",
          "text": [
            "Drive already mounted at /content/drive; to attempt to forcibly remount, call drive.mount(\"/content/drive\", force_remount=True).\n"
          ]
        }
      ]
    },
    {
      "cell_type": "code",
      "metadata": {
        "id": "8QUOXWVhlLwO"
      },
      "source": [
        "os.chdir('/content/drive/MyDrive/**/')"
      ],
      "execution_count": 13,
      "outputs": []
    },
    {
      "cell_type": "markdown",
      "metadata": {
        "id": "z1FIBfr-EOsj"
      },
      "source": [
        "# Record model training foldes"
      ]
    },
    {
      "cell_type": "markdown",
      "metadata": {
        "id": "utw7oj3b8nmq"
      },
      "source": [
        "## Long vs Short"
      ]
    },
    {
      "cell_type": "code",
      "metadata": {
        "id": "DQqpqNJGJ7zO"
      },
      "source": [
        "folders = {\n",
        "        'fourthbrain' : 'fourthbrain_2021_08_31-01_06_02_AM',\n",
        "        'seven' : 'seven_2021_08_31-01_34_13_AM',\n",
        "        'go' : 'go_2021_08_31-02_02_34_AM',\n",
        "        'cat' : 'cat_2021_08_31-02_32_33_AM',\n",
        "        'happy' : 'happy_2021_08_31-03_02_48_AM',\n",
        "        'marvin' : 'marvin_2021_08_31-03_32_42_AM',\n",
        "        'house' : 'house_2021_08_31-04_02_54_AM',\n",
        "        'sheila': 'sheila_2021_08_31-04_33_41_AM',\n",
        "        'six': 'six_2021_08_31-05_04_56_AM',\n",
        "        'heyfourthbrain' : 'heyfourthbrain_2021_08_31-05_37_52_AM',\n",
        "        'no' : 'no_2021_08_31-06_03_30_AM',\n",
        "        'wow' : 'wow_2021_08_31-06_32_28_AM',\n",
        "        } "
      ],
      "execution_count": 14,
      "outputs": []
    },
    {
      "cell_type": "code",
      "metadata": {
        "id": "vo1RgrZGMqzc"
      },
      "source": [
        "metrics = {}\n",
        "\n",
        "for key in folders.keys():     \n",
        "    metric = { 'folder': folders[key],\n",
        "                'mode1l': os.path.join(os.getcwd(),folders[key],'model1',key+'_model1_results.txt'),\n",
        "                'mode12': os.path.join(os.getcwd(),folders[key],'model2',key+'_model2_results.txt'),\n",
        "                'mode13': os.path.join(os.getcwd(),folders[key],'model3',key+'_model3_results.txt'),\n",
        "                'fp_long': os.path.join(os.getcwd(),folders[key],'comparison_longnegative_clip.txt'),\n",
        "                'fp_mixed': os.path.join(os.getcwd(),folders[key],'comparison_fp_mixed_clip.txt'),\n",
        "                'fp_clips': os.path.join(os.getcwd(),folders[key],'comparison_fp_shortnegative_clips.txt'),\n",
        "                'mixed_wav': os.path.join(os.getcwd(),folders[key],'long_mixed_test.wav'),\n",
        "                'neg_wav': os.path.join(os.getcwd(),folders[key],'long_neg_test.wav')\n",
        "              }\n",
        "    metrics[key] = metric\n"
      ],
      "execution_count": 15,
      "outputs": []
    },
    {
      "cell_type": "code",
      "metadata": {
        "id": "W1QlHkhuS8YL"
      },
      "source": [
        "df_list = []\n",
        "\n",
        "for key in metrics:\n",
        "    df_clips = pd.read_table(metrics[key]['fp_clips'],sep='\\t')\n",
        "    df_long = pd.read_table(metrics[key]['fp_long'],sep='\\t')\n",
        "\n",
        "    df = pd.read_table(metrics[key]['mode1l'],sep='\\t')\n",
        "    df['wake_word'] = key \n",
        "    df['model_type'] = 'custom_cnn' \n",
        "    df['FP_Rate(%)_clips'] = df_clips[df_clips['Model'] == 'Model1']['FP_Rate(%)'].values[0] \n",
        "    df['FP_Rate(%)_stream'] = df_long[df_long['Model'] == 'Model1']['FP_Rate(%)'].values[0] \n",
        "    df_list.append(df)\n",
        "    \n",
        "    df = pd.read_table(metrics[key]['mode12'],sep='\\t')\n",
        "    df['wake_word'] = key \n",
        "    df['model_type'] = 'ResNet8' \n",
        "    df['FP_Rate(%)_clips'] = df_clips[df_clips['Model'] == 'Model2']['FP_Rate(%)'].values[0] \n",
        "    df['FP_Rate(%)_stream'] = df_long[df_long['Model'] == 'Model2']['FP_Rate(%)'].values[0] \n",
        "    df_list.append(df)\n",
        "\n",
        "\n",
        "    df = pd.read_table(metrics[key]['mode13'],sep='\\t')\n",
        "    df['wake_word'] = key \n",
        "    df['model_type'] = 'AlexNet' \n",
        "    df['FP_Rate(%)_clips'] = df_clips[df_clips['Model'] == 'Model3']['FP_Rate(%)'].values[0] \n",
        "    df['FP_Rate(%)_stream'] = df_long[df_long['Model'] == 'Model3']['FP_Rate(%)'].values[0] \n",
        "    df_list.append(df)\n",
        "\n",
        "\n",
        "df = pd.concat(df_list)\n",
        "df['length'] = df['wake_word'].str.len()\n",
        "\n",
        "df = df.reset_index()\n",
        "\n",
        "\n",
        "cols = ['wake_word','model_type','FP_Rate(%)_stream','Accuracy','F1score','Precision','Recall','FP_Rate(%)_clips','length']\n",
        "\n",
        "df = df[cols]\n",
        "#df\n",
        "\n",
        "\n"
      ],
      "execution_count": 17,
      "outputs": []
    },
    {
      "cell_type": "code",
      "metadata": {
        "id": "OxcF31t6qJdd",
        "colab": {
          "base_uri": "https://localhost:8080/",
          "height": 279
        },
        "outputId": "f6293c8d-f9e8-46ce-b18e-b8bcab2414e1"
      },
      "source": [
        "# Analyze all models for 12 wakewords \n",
        "\n",
        "colors = ['red','blue','green']\n",
        "\n",
        "for i in range(df.shape[0]):\n",
        "\n",
        "  plt.scatter(df.iloc[i]['length'],df.iloc[i]['FP_Rate(%)_stream'], color=colors[i%3],s=150)\n",
        "\n",
        "plt.xlabel('Length of wakeword')\n",
        "plt.ylabel('FP Rate(%) continuous stream')\n",
        "\n",
        "plt.plot(np.arange(0,1,2),np.arange(0,1,2),color='red',label='custom_cnn')\n",
        "plt.plot(np.arange(0,1,2),np.arange(0,1,2),color='blue',label='ResNet8')\n",
        "plt.plot(np.arange(0,1,2),np.arange(0,1,2),color='green',label='AlexNet')\n",
        "\n",
        "plt.legend(loc = \"upper right\")\n",
        "figname = '/content/drive/MyDrive/SpotifyFourthBrainPartnerProject/custom_wakeword_engine/LongvsShort_wakeword.png'\n",
        "plt.savefig(figname)\n"
      ],
      "execution_count": 27,
      "outputs": [
        {
          "output_type": "display_data",
          "data": {
            "image/png": "[encoded data removed]",
            "text/plain": [
              "<Figure size 432x288 with 1 Axes>"
            ]
          },
          "metadata": {
            "needs_background": "light"
          }
        }
      ]
    },
    {
      "cell_type": "code",
      "metadata": {
        "id": "bkqQJ-RV6YzS"
      },
      "source": [
        "# Select best model for each wakeword\n",
        "df_short = df.sort_values(['FP_Rate(%)_stream'],ascending=True).groupby('wake_word').head(1)\n",
        "df_short = df_short.reset_index()\n",
        "#df_short"
      ],
      "execution_count": 20,
      "outputs": []
    },
    {
      "cell_type": "code",
      "metadata": {
        "colab": {
          "base_uri": "https://localhost:8080/",
          "height": 279
        },
        "id": "CuENPAEV6ZOx",
        "outputId": "fb672fb5-ed3c-4272-802f-e8f2cb1e0b69"
      },
      "source": [
        "colors = ['red','blue','green']\n",
        "\n",
        "for i in range(df_short.shape[0]):\n",
        "\n",
        "  plt.scatter(df_short.iloc[i]['length'],df_short.iloc[i]['FP_Rate(%)_stream'], color=colors[i%3],s=150)\n",
        "\n",
        "plt.xlabel('Length of wakeword')\n",
        "plt.ylabel('FP Rate(%) continuous stream')\n",
        "\n",
        "plt.plot(np.arange(0,1,2),np.arange(0,1,2),color='red',label='custom_cnn')\n",
        "plt.plot(np.arange(0,1,2),np.arange(0,1,2),color='blue',label='ResNet8')\n",
        "plt.plot(np.arange(0,1,2),np.arange(0,1,2),color='green',label='AlexNet')\n",
        "\n",
        "plt.legend(loc = \"lower left\")\n",
        "\n",
        "figname = '/content/drive/MyDrive/SpotifyFourthBrainPartnerProject/custom_wakeword_engine/LongvsShort_wakeword_bestmodels.png'\n",
        "plt.savefig(figname)\n",
        "\n"
      ],
      "execution_count": 28,
      "outputs": [
        {
          "output_type": "display_data",
          "data": {
            "image/png": "[encoded data removed]",
            "text/plain": [
              "<Figure size 432x288 with 1 Axes>"
            ]
          },
          "metadata": {
            "needs_background": "light"
          }
        }
      ]
    },
    {
      "cell_type": "markdown",
      "metadata": {
        "id": "7yRAbplr8tZV"
      },
      "source": [
        "## \" \" vs Hey vs Hello"
      ]
    },
    {
      "cell_type": "code",
      "metadata": {
        "id": "t8H121zA7llo"
      },
      "source": [
        "fb = '/content/drive/My Drive/SpotifyFourthBrainPartnerProject/custom_wakeword_engine/fourthbrain_2021_09_10-04_04_38_PM/all_metrics_path.txt'\n",
        "hfb = '/content/drive/My Drive/SpotifyFourthBrainPartnerProject/custom_wakeword_engine/heyfourthbrain_2021_09_10-07_16_53_AM/all_metrics_path.txt'\n",
        "hellofb = '/content/drive/My Drive/SpotifyFourthBrainPartnerProject/custom_wakeword_engine/hellofourthbrain_2021_09_11-07_35_19_AM/all_metrics_path.txt'\n",
        "\n",
        "df_fb= pd.read_table(fb,sep='\\t')\n",
        "df_hfb = pd.read_table(hfb,sep='\\t')\n",
        "df_hellofb = pd.read_table(hellofb,sep='\\t')"
      ],
      "execution_count": 22,
      "outputs": []
    },
    {
      "cell_type": "code",
      "metadata": {
        "colab": {
          "base_uri": "https://localhost:8080/"
        },
        "id": "JKcv4Yp9QpJB",
        "outputId": "7fd0d21d-0c65-408c-8fb1-d8d044433ccc"
      },
      "source": [
        "pd.set_option('max_columns', None)\n",
        "\n",
        "print (df_fb)\n",
        "print (df_hfb)\n",
        "print (df_hellofb)"
      ],
      "execution_count": 23,
      "outputs": [
        {
          "output_type": "stream",
          "name": "stdout",
          "text": [
            "        Model  FP_Rate(%)_stream  Accuracy   F1score  Precision    Recall  \\\n",
            "0  custom_cnn           3.555556  0.866667  0.917808   0.893333  0.943662   \n",
            "1     ResNet8           2.944444  0.977778  0.985915   0.985915  0.985915   \n",
            "2     AlexNet           5.722222  0.922222  0.950355   0.957143  0.943662   \n",
            "\n",
            "   Length(min)_stream  FP_Rate(%)_clips  NumClips     lr  num_epoch  num_neg  \\\n",
            "0                15.0              2.00       400  0.001        200      450   \n",
            "1                15.0              3.50       400  0.001        200      450   \n",
            "2                15.0              2.25       400  0.001        200      450   \n",
            "\n",
            "   num_pos  \n",
            "0      144  \n",
            "1      144  \n",
            "2      144  \n",
            "        Model  FP_Rate(%)_stream  Accuracy   F1score  Precision    Recall  \\\n",
            "0  custom_cnn           4.222222  0.910112  0.943662   0.943662  0.943662   \n",
            "1     ResNet8           0.000000  0.797753  0.887500   0.797753  1.000000   \n",
            "2     AlexNet           4.222222  0.966292  0.978723   0.985714  0.971831   \n",
            "\n",
            "   Length(min)_stream  FP_Rate(%)_clips  NumClips     lr  num_epoch  num_neg  \\\n",
            "0                15.0              4.25       400  0.001        200      450   \n",
            "1                15.0              0.00       400  0.001        200      450   \n",
            "2                15.0              3.75       400  0.001        200      450   \n",
            "\n",
            "   num_pos  \n",
            "0      140  \n",
            "1      140  \n",
            "2      140  \n",
            "        Model  FP_Rate(%)_stream  Accuracy   F1score  Precision    Recall  \\\n",
            "0  custom_cnn           3.555556  0.923077  0.951724   0.958333  0.945205   \n",
            "1     ResNet8           0.000000  0.802198  0.890244   0.802198  1.000000   \n",
            "2     AlexNet           4.222222  0.934066  0.958904   0.958904  0.958904   \n",
            "\n",
            "   Length(min)_stream  FP_Rate(%)_clips  NumClips     lr  num_epoch  num_neg  \\\n",
            "0                15.0              2.75       400  0.001        200      450   \n",
            "1                15.0              0.00       400  0.001        200      450   \n",
            "2                15.0              5.25       400  0.001        200      450   \n",
            "\n",
            "   num_pos  \n",
            "0      148  \n",
            "1      148  \n",
            "2      148  \n"
          ]
        }
      ]
    },
    {
      "cell_type": "code",
      "metadata": {
        "id": "9ADCrTphRlJE",
        "colab": {
          "base_uri": "https://localhost:8080/",
          "height": 283
        },
        "outputId": "ad403e5b-a6ba-4c2a-f576-6af28c2ec3f1"
      },
      "source": [
        "colors = ['red','blue','green']\n",
        "\n",
        "for i in range(df_hfb.shape[0]):\n",
        "\n",
        "  plt.scatter('FourthBrain',df_fb.iloc[i]['FP_Rate(%)_stream'], color=colors[i%3],s=150)\n",
        "  plt.scatter('Hey FourthBrain',df_hfb.iloc[i]['FP_Rate(%)_stream'], color=colors[i%3],s=150)\n",
        "  plt.scatter('Hello FourthBrain',df_hellofb.iloc[i]['FP_Rate(%)_stream'], color=colors[i%3],s=150)\n",
        "\n",
        "plt.xlabel('WakeWord')\n",
        "plt.ylabel('FP Rate(%) continuous stream')\n",
        "\n",
        "plt.plot(np.arange(0,1,2),np.arange(0,1,2),color='red',label='custom_cnn')\n",
        "plt.plot(np.arange(0,1,2),np.arange(0,1,2),color='blue',label='ResNet8')\n",
        "plt.plot(np.arange(0,1,2),np.arange(0,1,2),color='green',label='AlexNet')\n",
        "\n",
        "plt.legend(loc = \"lower left\")\n",
        "\n",
        "figname = '/content/drive/MyDrive/SpotifyFourthBrainPartnerProject/custom_wakeword_engine/FB_HeyFB_HelloFB_fprate.png'\n",
        "plt.savefig(figname)\n"
      ],
      "execution_count": 29,
      "outputs": [
        {
          "output_type": "display_data",
          "data": {
            "image/png": "[encoded data removed]",
            "text/plain": [
              "<Figure size 432x288 with 1 Axes>"
            ]
          },
          "metadata": {
            "needs_background": "light"
          }
        }
      ]
    },
    {
      "cell_type": "code",
      "metadata": {
        "colab": {
          "base_uri": "https://localhost:8080/",
          "height": 283
        },
        "id": "GEI-9ywAeTTf",
        "outputId": "8dcb10ba-1941-4a18-b816-7dc2ae14bfb9"
      },
      "source": [
        "for i in range(df_hfb.shape[0]):\n",
        "\n",
        "  plt.scatter('FourthBrain',df_fb.iloc[i]['Accuracy'], color=colors[i%3],s=150)\n",
        "  plt.scatter('Hey FourthBrain',df_hfb.iloc[i]['Accuracy'], color=colors[i%3],s=150)\n",
        "  plt.scatter('Hello FourthBrain',df_hellofb.iloc[i]['Accuracy'], color=colors[i%3],s=150)\n",
        "\n",
        "plt.xlabel('WakeWord')\n",
        "plt.ylabel('Accuracy')\n",
        "\n",
        "plt.plot(np.arange(0,1,2),np.arange(0,1,2),color='red',label='custom_cnn')\n",
        "plt.plot(np.arange(0,1,2),np.arange(0,1,2),color='blue',label='ResNet8')\n",
        "plt.plot(np.arange(0,1,2),np.arange(0,1,2),color='green',label='AlexNet')\n",
        "plt.ylim([0.6, 1.0])\n",
        "\n",
        "plt.legend(loc = \"lower left\")\n",
        "\n",
        "\n",
        "figname = '/content/drive/MyDrive/SpotifyFourthBrainPartnerProject/custom_wakeword_engine/FB_HeyFB_HelloFB_accuracy.png'\n",
        "plt.savefig(figname)"
      ],
      "execution_count": 30,
      "outputs": [
        {
          "output_type": "display_data",
          "data": {
            "image/png": "[encoded data removed]",
            "text/plain": [
              "<Figure size 432x288 with 1 Axes>"
            ]
          },
          "metadata": {
            "needs_background": "light"
          }
        }
      ]
    },
    {
      "cell_type": "code",
      "metadata": {
        "id": "Sj1taS_dStDn"
      },
      "source": [
        ""
      ],
      "execution_count": 26,
      "outputs": []
    }
  ]
}