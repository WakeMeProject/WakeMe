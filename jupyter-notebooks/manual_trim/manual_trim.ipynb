{
  "nbformat": 4,
  "nbformat_minor": 0,
  "metadata": {
    "colab": {
      "name": "manual_trim.ipynb",
      "provenance": [],
      "collapsed_sections": []
    },
    "kernelspec": {
      "display_name": "Python 3",
      "name": "python3"
    },
    "language_info": {
      "name": "python"
    }
  },
  "cells": [
    {
      "cell_type": "markdown",
      "metadata": {
        "id": "5WyBXNmCVIk6"
      },
      "source": [
        "Original  files from audio surveys vary in length: ~2 sec to 6 secs with long silences or noises.\n",
        "\n",
        "This jp notebook allows users to load a wav file and trim it manually.\n",
        "\n",
        "Why I did manual trimming instead of using a more intellient approach.\n",
        "\n",
        "Earlier work:\n",
        "\n",
        "*   Remove silent sections at the beginning and end of file.\n",
        "*   Use MFA to align 'Fourtbrain', split the audio file.\n",
        "\n",
        "\n",
        "Both approaches lost ~%20-30 amount of data. Since the dataset is small and donot want to loose any data, I trimmed audio files manually.\n"
      ]
    },
    {
      "cell_type": "code",
      "metadata": {
        "id": "axXxzyNMVMUS"
      },
      "source": [
        "from google.colab import drive\n",
        "import warnings\n",
        "import numpy as np\n",
        "import os\n",
        "warnings.simplefilter(\"ignore\", UserWarning)\n",
        "from matplotlib import pyplot as plt\n",
        "import glob\n",
        "from scipy.io import wavfile as wav\n",
        "import librosa\n",
        "from IPython.display import Audio\n"
      ],
      "execution_count": 78,
      "outputs": []
    },
    {
      "cell_type": "markdown",
      "metadata": {
        "id": "lKPb_GrjCxTx"
      },
      "source": [
        "# Mount google drive"
      ]
    },
    {
      "cell_type": "code",
      "metadata": {
        "colab": {
          "base_uri": "https://localhost:8080/"
        },
        "id": "4Rpn2jaSCUXm",
        "outputId": "db10b1ee-fdcb-456f-bc98-b1fd977e4051"
      },
      "source": [
        "drive.mount('/content/drive')"
      ],
      "execution_count": 2,
      "outputs": [
        {
          "output_type": "stream",
          "text": [
            "Mounted at /content/drive\n"
          ],
          "name": "stdout"
        }
      ]
    },
    {
      "cell_type": "code",
      "metadata": {
        "id": "Lx2OUKhhCka4"
      },
      "source": [
        "os.chdir('/content/drive/MyDrive/SpotifyFourthBrainPartnerProject/HeyFBProject/')"
      ],
      "execution_count": 3,
      "outputs": []
    },
    {
      "cell_type": "markdown",
      "metadata": {
        "id": "cvyuvhbjC4HF"
      },
      "source": [
        "# Read the existing audio files into a list for processing"
      ]
    },
    {
      "cell_type": "code",
      "metadata": {
        "colab": {
          "base_uri": "https://localhost:8080/"
        },
        "id": "kMx0WeazTl3v",
        "outputId": "c0b47346-b967-43c5-8696-2db8e36883bf"
      },
      "source": [
        "fourthbrain_list = glob.glob('fourthbrain_16000/*.wav')\n",
        "\n",
        "print(len(fourthbrain_list))"
      ],
      "execution_count": 74,
      "outputs": [
        {
          "output_type": "stream",
          "text": [
            "110\n"
          ],
          "name": "stdout"
        }
      ]
    },
    {
      "cell_type": "markdown",
      "metadata": {
        "id": "t3BERpuNDLOq"
      },
      "source": [
        "# Load audio files, plot waveform, trim manually and check the trimmed audio"
      ]
    },
    {
      "cell_type": "code",
      "metadata": {
        "id": "KykpC998RB6D",
        "colab": {
          "base_uri": "https://localhost:8080/"
        },
        "outputId": "ca0507a8-8042-4768-9701-44fbdd4dc7a6"
      },
      "source": [
        "file_index = 105\n",
        "\n",
        "original_filename = fourthbrain_list[file_index]\n",
        "trimmed_filename = os.path.join(original_filename.split('/')[0],'trimmed',original_filename.split('/')[1])\n",
        "\n",
        "print(original_filename)\n",
        "print(trimmed_filename in fourthbrain_list_trimmed)\n",
        "\n",
        "sounddata=wav.read(original_filename)[1]"
      ],
      "execution_count": 61,
      "outputs": [
        {
          "output_type": "stream",
          "text": [
            "fourthbrain_16000/610db8f0b4ffdeeaa7aea1b7.wav\n",
            "False\n"
          ],
          "name": "stdout"
        }
      ]
    },
    {
      "cell_type": "code",
      "metadata": {
        "colab": {
          "base_uri": "https://localhost:8080/",
          "height": 279
        },
        "id": "J8TngbdWNoMe",
        "outputId": "371f0e34-08c2-4d1c-dfa8-bfb7019f1869"
      },
      "source": [
        "plt.plot(np.arange(0, len(sounddata), 1),sounddata)\n",
        "plt.ylabel('intensity')\n",
        "plt.xlabel('index')\n",
        "plt.grid(True)\n",
        "plt.show()"
      ],
      "execution_count": 62,
      "outputs": [
        {
          "output_type": "display_data",
          "data": {
            "image/png": "[encoded data removed]",
            "text/plain": [
              "<Figure size 432x288 with 1 Axes>"
            ]
          },
          "metadata": {
            "tags": [],
            "needs_background": "light"
          }
        }
      ]
    },
    {
      "cell_type": "code",
      "metadata": {
        "id": "BhIDZwc9R2g5",
        "colab": {
          "base_uri": "https://localhost:8080/"
        },
        "outputId": "8df469db-98ed-49ea-c2a0-4b0b53f70fe9"
      },
      "source": [
        "start = 19000\n",
        "end = 35000\n",
        "\n",
        "trimmed_sounddata = sounddata[start-100:end+100]\n",
        "wav.write(trimmed_filename, 16000, trimmed_sounddata)\n",
        "\n",
        "print(original_filename,trimmed_filename)\n",
        "\n",
        "#!ls fourthbrain_16000/trimmed/"
      ],
      "execution_count": 63,
      "outputs": [
        {
          "output_type": "stream",
          "text": [
            "fourthbrain_16000/610db8f0b4ffdeeaa7aea1b7.wav fourthbrain_16000/trimmed/610db8f0b4ffdeeaa7aea1b7.wav\n"
          ],
          "name": "stdout"
        }
      ]
    },
    {
      "cell_type": "code",
      "metadata": {
        "colab": {
          "base_uri": "https://localhost:8080/",
          "height": 93
        },
        "id": "x1p60qWfT_w1",
        "outputId": "8fe529a8-5091-4d4d-b535-19e413a83471"
      },
      "source": [
        "sounddata_new = librosa.core.load(trimmed_filename, sr=16000, mono=True)[0]\n",
        "print('total duration',len(sounddata_new)/16000)\n",
        "Audio(sounddata_new,rate=16000)"
      ],
      "execution_count": 64,
      "outputs": [
        {
          "output_type": "stream",
          "text": [
            "total duration 1.0125\n"
          ],
          "name": "stdout"
        },
        {
          "output_type": "execute_result",
          "data": {
            "text/html": [
              "\n",
              "                <audio controls=\"controls\" >\n",
              "                    <source src=\"data:audio/wav;base64,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\" type=\"audio/wav\" />\n",
              "                    Your browser does not support the audio element.\n",
              "                </audio>\n",
              "              "
            ],
            "text/plain": [
              "<IPython.lib.display.Audio object>"
            ]
          },
          "metadata": {
            "tags": []
          },
          "execution_count": 64
        }
      ]
    },
    {
      "cell_type": "code",
      "metadata": {
        "colab": {
          "base_uri": "https://localhost:8080/"
        },
        "id": "ZeM-vM2uB08a",
        "outputId": "4d689f50-3495-469d-fb6c-9637e806696e"
      },
      "source": [
        "print(trimmed_filename)"
      ],
      "execution_count": 65,
      "outputs": [
        {
          "output_type": "stream",
          "text": [
            "fourthbrain_16000/trimmed/610db8f0b4ffdeeaa7aea1b7.wav\n"
          ],
          "name": "stdout"
        }
      ]
    },
    {
      "cell_type": "code",
      "metadata": {
        "id": "aQKDgmSJBv0N"
      },
      "source": [
        "#!rm fourthbrain_16000/trimmed/610dba03b3a7b60345b49ae5.wav"
      ],
      "execution_count": 57,
      "outputs": []
    },
    {
      "cell_type": "markdown",
      "metadata": {
        "id": "dy0NC1isCbeu"
      },
      "source": [
        "# Sanity check for missing data after trimming\n",
        "\n",
        "remove the files below from analysis (bad recording/incomplete recording)\n",
        "\n",
        "fourthbrain_16000/trimmed/610dba03b3a7b60345b49ae5.wav\n",
        "\n",
        "fourthbrain_16000/trimmed/610dba553b684eae869a3f55.wav\n"
      ]
    },
    {
      "cell_type": "code",
      "metadata": {
        "id": "QS7vipVvDEYb"
      },
      "source": [
        "fourthbrain_list_trimmed = glob.glob('fourthbrain_16000/trimmed/*.wav')"
      ],
      "execution_count": 71,
      "outputs": []
    },
    {
      "cell_type": "code",
      "metadata": {
        "id": "U_Vl0PAK7wk7"
      },
      "source": [
        "fb_trimmed_names=[]\n",
        "for j in range(len(fourthbrain_list_trimmed)):\n",
        "   fb_trimmed_names.append(fourthbrain_list_trimmed[j].split('/')[-1])\n",
        "fb_names=[]\n",
        "for j in range(len(fourthbrain_list)):\n",
        "   fb_names.append(fourthbrain_list[j].split('/')[-1])"
      ],
      "execution_count": 72,
      "outputs": []
    },
    {
      "cell_type": "code",
      "metadata": {
        "colab": {
          "base_uri": "https://localhost:8080/"
        },
        "id": "IboPT2ajCauf",
        "outputId": "e738fc8e-59f6-4763-a02b-7ea54bad2678"
      },
      "source": [
        "for i in range(len(fb_names)):\n",
        "    if not fb_names[i] in fb_trimmed_names:\n",
        "      print(i,fb_names[i],fb_names[i] in fb_trimmed_names)"
      ],
      "execution_count": 73,
      "outputs": [
        {
          "output_type": "stream",
          "text": [
            "81 610dba03b3a7b60345b49ae5.wav False\n",
            "90 610dba553b684eae869a3f55.wav False\n"
          ],
          "name": "stdout"
        }
      ]
    },
    {
      "cell_type": "code",
      "metadata": {
        "id": "IPffPG6pDnXb"
      },
      "source": [
        ""
      ],
      "execution_count": null,
      "outputs": []
    }
  ]
}