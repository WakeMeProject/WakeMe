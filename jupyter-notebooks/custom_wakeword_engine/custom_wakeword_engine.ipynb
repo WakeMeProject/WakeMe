{
  "nbformat": 4,
  "nbformat_minor": 0,
  "metadata": {
    "colab": {
      "name": "custom_wakeword_engine.ipynb",
      "provenance": [],
      "collapsed_sections": [
        "rzdpiReA557T",
        "m1f9a5p8a_Tk"
      ],
      "toc_visible": true
    },
    "kernelspec": {
      "display_name": "Python 3",
      "name": "python3"
    },
    "language_info": {
      "name": "python"
    }
  },
  "cells": [
    {
      "cell_type": "markdown",
      "metadata": {
        "id": "hWpt_lNIcA7A"
      },
      "source": [
        "This jp notebooks provides methods and functions for providing a custom wake word engine.\n",
        "\n",
        "expectations for datasets:\n",
        "\n",
        "/dataset/cv-corpus-6.1-2020-12-11\n",
        "\n",
        "/dataset/fourthbrain\n",
        "\n",
        "/dataset/speech_commands_v0.01"
      ]
    },
    {
      "cell_type": "markdown",
      "metadata": {
        "id": "jfySlnfOj1Lx"
      },
      "source": [
        "# Load relevant libraries"
      ]
    },
    {
      "cell_type": "code",
      "metadata": {
        "id": "OPHDB2CqcNst",
        "colab": {
          "base_uri": "https://localhost:8080/"
        },
        "outputId": "d760e4ff-06c2-46ae-dbe3-205168c33e2b"
      },
      "source": [
        "from google.colab import drive\n",
        "import pandas as pd\n",
        "import os\n",
        "import librosa\n",
        "import warnings\n",
        "import numpy as np\n",
        "import scipy.io.wavfile as wav\n",
        "import glob\n",
        "import shutil\n",
        "import random\n",
        "import tensorflow as tf\n",
        "import soundfile as sf\n",
        "import matplotlib.pyplot as plt\n",
        "from tensorflow.keras.layers.experimental import preprocessing\n",
        "from tensorflow.keras import layers\n",
        "from tensorflow.keras import models\n",
        "\n",
        "warnings.simplefilter(\"ignore\", UserWarning)\n",
        "\n",
        "from IPython.display import Audio\n",
        "\n",
        "import soundfile\n",
        "\n",
        "!pip install textgrid\n",
        "import textgrid\n",
        "\n",
        "!pip install pydub\n",
        "from pydub import AudioSegment"
      ],
      "execution_count": 1,
      "outputs": [
        {
          "output_type": "stream",
          "text": [
            "Collecting textgrid\n",
            "  Downloading TextGrid-1.5-py3-none-any.whl (10.0 kB)\n",
            "Installing collected packages: textgrid\n",
            "Successfully installed textgrid-1.5\n",
            "Collecting pydub\n",
            "  Downloading pydub-0.25.1-py2.py3-none-any.whl (32 kB)\n",
            "Installing collected packages: pydub\n",
            "Successfully installed pydub-0.25.1\n"
          ],
          "name": "stdout"
        }
      ]
    },
    {
      "cell_type": "code",
      "metadata": {
        "colab": {
          "base_uri": "https://localhost:8080/"
        },
        "id": "d1G6Wd5Hk51B",
        "outputId": "367c5aa6-f70b-4235-e3a4-ac1e2a3d2fbd"
      },
      "source": [
        "drive.mount('/content/drive')"
      ],
      "execution_count": 2,
      "outputs": [
        {
          "output_type": "stream",
          "text": [
            "Mounted at /content/drive\n"
          ],
          "name": "stdout"
        }
      ]
    },
    {
      "cell_type": "code",
      "metadata": {
        "id": "8QUOXWVhlLwO"
      },
      "source": [
        "os.chdir('/content/drive/MyDrive/SpotifyFourthBrainPartnerProject/custom_wakeword_engine/')"
      ],
      "execution_count": 3,
      "outputs": []
    },
    {
      "cell_type": "markdown",
      "metadata": {
        "id": "YvDcTjFwZiyR"
      },
      "source": [
        "# Prepare databases for wakeword detection engine\n",
        "\n",
        "This section needs to be run once and edited when there is a new database available for training engine."
      ]
    },
    {
      "cell_type": "code",
      "metadata": {
        "id": "DrWtstg4aFXl"
      },
      "source": [
        "database_folder = 'datasets'"
      ],
      "execution_count": 4,
      "outputs": []
    },
    {
      "cell_type": "markdown",
      "metadata": {
        "id": "EmsfjbyHktEB"
      },
      "source": [
        "## Create summary lists for 'fourthbrain' database\n"
      ]
    },
    {
      "cell_type": "code",
      "metadata": {
        "id": "QYz4mAYCsqXt"
      },
      "source": [
        "fourthbrain_files = glob.glob(database_folder+'/fourthbrain/*.wav')\n",
        "fourthbrain_validated = database_folder+'/fourthbrain/fourthbrain_validated.txt'"
      ],
      "execution_count": null,
      "outputs": []
    },
    {
      "cell_type": "code",
      "metadata": {
        "id": "cqyuzNp5tnaL"
      },
      "source": [
        "df = pd.DataFrame(columns = ['path', 'filename','sentence', 'label', 'lentgh(sec)'])\n",
        "\n",
        "for i in range(len(fourthbrain_files)):\n",
        "  sounddata = librosa.core.load(fourthbrain_files[i], sr=16000, mono=True)[0]\n",
        "  df = df.append({'path' : fourthbrain_files[i],'filename' : fourthbrain_files[i].split('/')[-1], 'sentence' : ' fourthbrain ','label' : 'fourthbrain', 'lentgh(sec)' : len(sounddata)/16000},ignore_index = True)\n",
        "\n",
        "df.to_csv(fourthbrain_validated,sep='\\t',index=False)"
      ],
      "execution_count": null,
      "outputs": []
    },
    {
      "cell_type": "markdown",
      "metadata": {
        "id": "rzdpiReA557T"
      },
      "source": [
        "## Create summary  for MCV data set\n",
        "\n",
        "A summary file came with the full data set, we still need to edit to use in our config\n",
        "\n",
        "cv-corpus-6.1-2020-12-11/validated.tsv"
      ]
    },
    {
      "cell_type": "code",
      "metadata": {
        "id": "aBAF9cL5iNXY"
      },
      "source": [
        "mcv = database_folder+'/cv-corpus-6.1-2020-12-11/validated.tsv'\n",
        "mcv_validated = database_folder+'/cv-corpus-6.1-2020-12-11/mcv_validated.tsv'"
      ],
      "execution_count": null,
      "outputs": []
    },
    {
      "cell_type": "code",
      "metadata": {
        "id": "l2vFGvAjh8xD"
      },
      "source": [
        "df = pd.read_csv(mcv,sep='\\t')"
      ],
      "execution_count": null,
      "outputs": []
    },
    {
      "cell_type": "code",
      "metadata": {
        "id": "4LB-2BuhjR8y"
      },
      "source": [
        "df ['filename'] = df['path']\n",
        "df ['path'] = database_folder+'/cv-corpus-6.1-2020-12-11/clips/'+ df ['filename'] \n",
        "df ['label'] = 'NA'\n",
        "df = df[['path', 'filename','sentence', 'label']]\n",
        "\n",
        "# check which audio files are copied from full database\n",
        "candid_paths = [filename.split('/')[-1] for filename in glob.glob('datasets/cv-corpus-6.1-2020-12-11/clips/*.mp3') ]\n",
        "\n",
        "df = df[df['filename'].isin(candid_paths)].reset_index(drop=True)\n",
        "df.to_csv(mcv_validated,sep='\\t',index=False)"
      ],
      "execution_count": null,
      "outputs": []
    },
    {
      "cell_type": "markdown",
      "metadata": {
        "id": "m1f9a5p8a_Tk"
      },
      "source": [
        "## Create summary for SpeechCommand (SC) data set\n"
      ]
    },
    {
      "cell_type": "code",
      "metadata": {
        "id": "xjKbTkUWbWI5"
      },
      "source": [
        "sc_validated = database_folder+'/speech_commands_v0.01/sc_validated.txt'"
      ],
      "execution_count": null,
      "outputs": []
    },
    {
      "cell_type": "code",
      "metadata": {
        "id": "by3htUeZbQsp"
      },
      "source": [
        "# Find labels for all files and save them as a datasummary in .csv file\n",
        "sc_labels = [ name for name in os.listdir(database_folder+'/speech_commands_v0.01') if os.path.isdir(os.path.join(database_folder+'/speech_commands_v0.01', name)) ]\n",
        "df = pd.DataFrame(columns=['path', 'filename','sentence', 'label','lentgh(sec)'])\n",
        "\n",
        "for sc_label in sc_labels:\n",
        "    file_names = os.listdir(database_folder+'/speech_commands_v0.01/'+sc_label)\n",
        "    for file_name in file_names:\n",
        "      path_name = database_folder+'/speech_commands_v0.01/'+sc_label+'/'+file_name\n",
        "      #sounddata = librosa.core.load(path_name, sr=16000, mono=True)[0]\n",
        "      #df = df.append({'path' : path_name, 'filename' : file_name,  'sentence' : ' '+sc_label+' ', 'label' : sc_label,'lentgh(sec)' : len(sounddata)/16000},ignore_index = True)\n",
        "      df = df.append({'path' : path_name, 'filename' : file_name,  'sentence' : ' '+sc_label+' ', 'label' : sc_label,'lentgh(sec)' : 1},ignore_index = True)\n",
        "\n",
        "df.to_csv(sc_validated,sep='\\t',index=False)"
      ],
      "execution_count": null,
      "outputs": []
    },
    {
      "cell_type": "markdown",
      "metadata": {
        "id": "CP4zr95PxLz3"
      },
      "source": [
        "# Utility Functions"
      ]
    },
    {
      "cell_type": "code",
      "metadata": {
        "id": "TXipuZJExF1u"
      },
      "source": [
        "'''\n",
        "function to pick sentences including wakeword candidate from a given source\n",
        "wake: wake word candidate\n",
        "dataset_path: summary file path\n",
        "returns dataframe which includes examples with wakeword\n",
        "'''\n",
        "\n",
        "def check_forwake (wake,dataset_path):\n",
        "  wake = ' '+wake+' '\n",
        "  dataset = pd.read_table(dataset_path)\n",
        "  dataset['include'] = dataset['sentence'].apply(lambda x: 'True' if wake.lower() in str(x).lower() else 'False')  \n",
        "  subset = dataset[dataset['include']=='True']\n",
        "  subset = subset.reset_index(drop=True)\n",
        "  #print(len(subset), 'sentences include',wake)\n",
        "  return subset"
      ],
      "execution_count": 356,
      "outputs": []
    },
    {
      "cell_type": "markdown",
      "metadata": {
        "id": "7168eUwbIRFG"
      },
      "source": [
        "## Utility functions for MCV dataset"
      ]
    },
    {
      "cell_type": "code",
      "metadata": {
        "id": "JiMhKZgypIs1"
      },
      "source": [
        "'''\n",
        "function convert audio files from mp3 to wav format\n",
        "and creates *lab file for alignment\n",
        "\n",
        "input_df : pandas dataframe including wakeword example details\n",
        "mcv_ds_path: cv dataset path\n",
        "temp_corpus: directory to save wav files and lab files\n",
        "'''\n",
        "\n",
        "def convert_2wavlab(input_df,temp_corpus,num):\n",
        "\n",
        "  if os.path.isdir(temp_corpus):\n",
        "    shutil.rmtree(temp_corpus)\n",
        "  os.makedirs(temp_corpus)\n",
        "\n",
        "  for row_index in range(min(len(input_df),num)):\n",
        "    \n",
        "    file_index = row_index\n",
        "    path = input_df.iloc[file_index]['path']\n",
        "    filename = input_df.iloc[file_index]['filename']\n",
        "\n",
        "    sounddata = librosa.core.load(path, sr=16000, mono=True)[0]\n",
        "    # convert mp3 to wave\n",
        "    soundfile.write(f\"{temp_corpus}/{filename[:-4]}.wav\", sounddata, 16000)\n",
        "    \n",
        "    # create lab file \n",
        "    f = open(f\"{temp_corpus}/{filename[:-4]}.lab\", \"x\")\n",
        "    f.write(input_df.iloc[file_index]['sentence'])\n",
        "    f.close()\n"
      ],
      "execution_count": 357,
      "outputs": []
    },
    {
      "cell_type": "code",
      "metadata": {
        "id": "-tzYk-KUJlBF"
      },
      "source": [
        "'''\n",
        "convert a full sentence to word level wav files\n",
        "'''\n",
        "def convert2wordlevelwav (corpus_dir,aligned_dir,results_dir,file_tg,only_wake_word=False,wake_word='no_wake_word'):\n",
        "\n",
        "    tg = textgrid.TextGrid.fromFile(os.path.join(aligned_dir,file_tg))\n",
        "    wav_file = file_tg[:-9]+'.wav'\n",
        "    path_sentence = os.path.join(corpus_dir,wav_file)  \n",
        "    words_timestamps = {}\n",
        "    \n",
        "    for tg_intvl in range(len(tg[0])):\n",
        "      word = tg[0][tg_intvl].mark\n",
        "      if word:\n",
        "        words_timestamps[word] = {'start': tg[0][tg_intvl].minTime, 'end':  tg[0][tg_intvl].maxTime}\n",
        "\n",
        "    lib_word_sound_map = {}\n",
        "    sr = 16000\n",
        "    \n",
        "    for word, ts in words_timestamps.items():\n",
        "      audio_start_idx = int((ts['start'] * 1000) * sr / 1000)\n",
        "      audio_end_idx = int((ts['end'] * 1000) * sr / 1000)\n",
        "      sounddata = librosa.core.load(path_sentence, sr=16000, mono=True)[0]\n",
        "      lib_word_sound_map[word] = sounddata[audio_start_idx:audio_end_idx]\n",
        "\n",
        "    word_list = list(words_timestamps.keys())\n",
        "\n",
        "    if (only_wake_word == True):\n",
        "       word_list = [wake_word]\n",
        "\n",
        "    if not os.path.isdir(results_dir):\n",
        "       os.makedirs(results_dir)\n",
        "\n",
        "    for word in word_list:\n",
        "      path_word = os.path.join(results_dir,word+'_'+wav_file)  \n",
        "      #print(path_word,wav_file)\n",
        "      sounddata = lib_word_sound_map[word]\n",
        "\n",
        "      if (sounddata.shape[0] < 16000):\n",
        "        zero_padding = np.zeros(16000-sounddata.shape[0])\n",
        "        full_sounddata = np.concatenate((zero_padding,sounddata),axis=0)*32767\n",
        "        full_sounddata = full_sounddata.astype(np.int16)\n",
        "\n",
        "        wav.write(path_word, 16000, full_sounddata)\n",
        "      elif (16000 <sounddata.shape[0] < 24000):\n",
        "        zero_padding = np.zeros(24000-sounddata.shape[0])\n",
        "        full_sounddata = np.concatenate((zero_padding,sounddata),axis=0)*32767\n",
        "        full_sounddata = full_sounddata.astype(np.int16)\n",
        "\n",
        "        wav.write(path_word, 24000, full_sounddata)\n",
        "      else:\n",
        "         print(word, 'will not be saved, because it is longer than 1.5sec')\n",
        "      #print('Done')"
      ],
      "execution_count": 359,
      "outputs": []
    },
    {
      "cell_type": "markdown",
      "metadata": {
        "id": "gnEjlQycx_Je"
      },
      "source": [
        "## Utility functions for negative samples"
      ]
    },
    {
      "cell_type": "code",
      "metadata": {
        "id": "XeCuHLbDyP7w"
      },
      "source": [
        "'''\n",
        "function to pick sentences notincluding wakeword candidate from a given source\n",
        "wake: wake word candidate\n",
        "dataset_path: summary file path\n",
        "returns dataframe which includes examples with wakeword\n",
        "'''\n",
        "\n",
        "def check_fornotwake (wake,dataset_path):\n",
        "  wake = ' '+wake+' '\n",
        "  dataset = pd.read_table(dataset_path)\n",
        "  dataset['include'] = dataset['sentence'].apply(lambda x: 'True' if wake.lower() in str(x).lower() else 'False')  \n",
        "  subset = dataset[dataset['include']=='False']\n",
        "  subset = subset.reset_index(drop=True)\n",
        "  #print(len(subset), 'sentences donot include',wake)\n",
        "  return subset"
      ],
      "execution_count": 363,
      "outputs": []
    },
    {
      "cell_type": "code",
      "metadata": {
        "id": "wGjfOcY6yxVt"
      },
      "source": [
        "'''\n",
        "function convert audio files from mp3 to wav format\n",
        "\n",
        "input_df : pandas dataframe including wakeword example details\n",
        "mcv_ds_path: cv dataset path\n",
        "temp_corpus: directory to save wav files and lab files\n",
        "'''\n",
        "\n",
        "def convert_mp3towav(input_df,temp_corpus,num):\n",
        "\n",
        "  if os.path.isdir(temp_corpus):\n",
        "    shutil.rmtree(temp_corpus)\n",
        "  os.makedirs(temp_corpus)\n",
        "\n",
        "  for row_index in range(min(len(input_df),num)):\n",
        "    #print(row_index)\n",
        "    file_index = row_index\n",
        "    path = input_df.iloc[file_index]['path']\n",
        "    filename = input_df.iloc[file_index]['filename']\n",
        "    sounddata = librosa.core.load(path, sr=16000, mono=True)[0]\n",
        "    # convert mp3 to wave\n",
        "    soundfile.write(f\"{temp_corpus}/{filename[:-4]}.wav\", sounddata, 16000)\n"
      ],
      "execution_count": 364,
      "outputs": []
    },
    {
      "cell_type": "code",
      "metadata": {
        "id": "sQ6_GXqUy8BU"
      },
      "source": [
        "'''\n",
        "function convert full sentences to x sec chunks for negative examples for wake word training\n",
        "'''\n",
        "\n",
        "def createchunks (path,duration,sentence_index,temp_neg_dir):\n",
        "    \n",
        "    if not os.path.isdir(temp_neg_dir):\n",
        "       os.makedirs(temp_neg_dir)\n",
        "    \n",
        "    sounddata = librosa.core.load(path, sr=16000, mono=True)[0]\n",
        "\n",
        "    for i in range(int(len(sounddata)/(16000*duration))):\n",
        "      #print(len(sounddata),i,int(len(sounddata)/(16000*duration)))\n",
        "      filename = os.path.join(temp_neg_dir,'negative_'+str(sentence_index)+'_'+str(i)+'.wav')\n",
        "      #print(filename)\n",
        "      chuck = sounddata[int(i*16000*duration):int((i+1)*16000*duration)]\n",
        "      if (chuck.shape[0] < 16000*duration):\n",
        "            zero_padding = np.zeros(16000*duration-chuck.shape[0])\n",
        "            chuck = np.concatenate((zero_padding,chuck),axis=0)\n",
        "      #print(chuck)\n",
        "      chuck = chuck * 32767\n",
        "      chuck = chuck.astype(np.int16)\n",
        "      wav.write(filename, 16000, chuck)"
      ],
      "execution_count": 365,
      "outputs": []
    },
    {
      "cell_type": "markdown",
      "metadata": {
        "id": "TI_Gr6W_q4ks"
      },
      "source": [
        "# Check if wakeword is included in database"
      ]
    },
    {
      "cell_type": "code",
      "metadata": {
        "id": "6xE7hLslwUJ4"
      },
      "source": [
        "wakeword = 'fourthbrain'"
      ],
      "execution_count": 367,
      "outputs": []
    },
    {
      "cell_type": "code",
      "metadata": {
        "colab": {
          "base_uri": "https://localhost:8080/"
        },
        "id": "-Cy2JwUYrMRs",
        "outputId": "4b2122ba-a6de-44bc-d974-df2a84a931da"
      },
      "source": [
        "label_list = []\n",
        "\n",
        "# Provide paths for datasets\n",
        "\n",
        "database_folder = 'datasets'\n",
        "\n",
        "sc_validated = database_folder+'/speech_commands_v0.01/sc_validated.txt'\n",
        "fourthbrain_validated = database_folder+'/fourthbrain/fourthbrain_validated.txt'\n",
        "mcv_validated = database_folder+'/cv-corpus-6.1-2020-12-11/mcv_validated.tsv'\n",
        "\n",
        "df_sc = check_forwake (wake=wakeword,dataset_path=sc_validated)\n",
        "df_fb = check_forwake (wake=wakeword,dataset_path=fourthbrain_validated)\n",
        "df_mcv = check_forwake (wake=wakeword,dataset_path=mcv_validated)\n",
        "\n",
        "\n",
        "if (len(df_sc) > 0) or (len(df_fb) > 0) or (len(df_mcv) > 0):\n",
        "    print (wakeword,' is  in our training set,  model will be provided')\n",
        "    print ('sc dataset examples:',len(df_sc) )\n",
        "    print ('fourtbrain dataset examples:',len(df_fb) )\n",
        "    print ('mcv dataset examples:',len(df_mcv) )\n",
        "\n",
        "else:\n",
        "    print (wakeword,' is not in our training set,  model will be provided')"
      ],
      "execution_count": 368,
      "outputs": [
        {
          "output_type": "stream",
          "text": [
            "fourthbrain  is  in our training set,  model will be provided\n",
            "sc dataset examples: 0\n",
            "fourtbrain dataset examples: 108\n",
            "mcv dataset examples: 0\n"
          ],
          "name": "stdout"
        }
      ]
    },
    {
      "cell_type": "markdown",
      "metadata": {
        "id": "Q4wfsp_Q2dRG"
      },
      "source": [
        "# Define some parameter for training"
      ]
    },
    {
      "cell_type": "code",
      "metadata": {
        "id": "7KVh7iRm2iXY"
      },
      "source": [
        "wake_duration = 1.5 #Duration of speech to capture wakeword sec-max 1.5\n",
        "\n",
        "num_positive_samples =100\n",
        "num_negative_samples =100\n",
        "\n",
        "num_positive_samples_db = len(df_sc)+len(df_fb)+len(df_mcv)# pick number of positive samples\n",
        "#num_negative_samples_db = num_positive_samples_db # pick number of negative samples\n",
        "\n",
        "\n",
        "# Decide if augmentation is needed\n",
        "if (num_positive_samples > num_positive_samples_db):\n",
        "   need_aug = True\n",
        "   aug_size = num_positive_samples - num_positive_samples_db\n",
        "\n",
        "elif (num_positive_samples <= num_positive_samples_db):\n",
        "   need_aug = False\n",
        "\n",
        "\n",
        "# Decide which dataset will be used for positive examples\n",
        "if (len(df_sc) == 0):\n",
        "  use_sc = False\n",
        "else:\n",
        "  use_sc = True\n",
        "\n",
        "if (len(df_fb) == 0):\n",
        "   use_fb = False\n",
        "else:\n",
        "   use_fb = True\n",
        "\n",
        "\n",
        "if (len(df_mcv) == 0):\n",
        "   use_mcv = False\n",
        "else:\n",
        "   use_mcv = True  "
      ],
      "execution_count": 369,
      "outputs": []
    },
    {
      "cell_type": "markdown",
      "metadata": {
        "id": "AI4i-lGVt4fY"
      },
      "source": [
        "# Create tmp folder for training"
      ]
    },
    {
      "cell_type": "code",
      "metadata": {
        "id": "aW_Lb9nBuilj"
      },
      "source": [
        "# Donot overwrite existing model training dir\n",
        "\n",
        "for i in range(100):\n",
        "   if not os.path.isdir('wake_me_model_training_'+str(i)):\n",
        "      current_training = 'wake_me_model_training_'+str(i)\n",
        "      break\n",
        "os.mkdir(current_training)"
      ],
      "execution_count": 370,
      "outputs": []
    },
    {
      "cell_type": "markdown",
      "metadata": {
        "id": "ILJkEI8oxN-6"
      },
      "source": [
        "# Create subsets of databases for training"
      ]
    },
    {
      "cell_type": "code",
      "metadata": {
        "id": "TQaTamLE3gPc"
      },
      "source": [
        "# clean directories\n",
        "if os.path.isdir(current_training+'/temp_pos'):\n",
        "   shutil.rmtree(current_training+'/temp_pos') \n",
        "\n",
        "os.makedirs(current_training+'/temp_pos')\n",
        "\n",
        "if os.path.isdir(current_training+'/temp_neg'):\n",
        "   shutil.rmtree(current_training+'/temp_neg') \n",
        "\n",
        "os.makedirs(current_training+'/temp_neg')"
      ],
      "execution_count": 371,
      "outputs": []
    },
    {
      "cell_type": "markdown",
      "metadata": {
        "id": "XpBmw8kMPZ0k"
      },
      "source": [
        "## Make a subset of FB dataset containing wakewords [fourthbrain data set]"
      ]
    },
    {
      "cell_type": "code",
      "metadata": {
        "id": "1i29fxKISECC"
      },
      "source": [
        "if (use_fb == True) and (len(df_fb) > 0):\n",
        "\n",
        "  fourthbrain_files = glob.glob(database_folder+'/fourthbrain/*.wav')\n",
        "  for i in range(num_positive_samples):\n",
        "    sounddata = librosa.core.load(fourthbrain_files[i], sr=16000, mono=True)[0]\n",
        "    if (len(sounddata)/16000 < 1.5) :\n",
        "      shutil.copy2(fourthbrain_files[i], current_training+'/temp_pos/'+fourthbrain_files[i].split('/')[-1]) "
      ],
      "execution_count": 374,
      "outputs": []
    },
    {
      "cell_type": "markdown",
      "metadata": {
        "id": "6hnmSnkxRYe3"
      },
      "source": [
        "## Make a subset of MCV dataset containing wake words [MozillaDataset] \n"
      ]
    },
    {
      "cell_type": "code",
      "metadata": {
        "id": "xIi5W7ZlpnWm"
      },
      "source": [
        "if (use_mcv == True) and (len(df_mcv) > 0):\n",
        "   convert_2wavlab(input_df=df_mcv,temp_corpus=current_training+'/temp_pos_mcv',num=num_positive_samples)"
      ],
      "execution_count": 375,
      "outputs": []
    },
    {
      "cell_type": "markdown",
      "metadata": {
        "id": "MEolStx55w6s"
      },
      "source": [
        "### Align MCV data"
      ]
    },
    {
      "cell_type": "code",
      "metadata": {
        "id": "jUlta-bt5zhV"
      },
      "source": [
        "if (use_mcv == True) and (len(df_mcv) > 0):\n",
        "\n",
        "  os.chdir(current_training)\n",
        "\n",
        "  !wget https://github.com/MontrealCorpusTools/Montreal-Forced-Aligner/releases/download/v1.1.0-beta.2/montreal-forced-aligner_linux.tar.gz\n",
        "  !tar -xf montreal-forced-aligner_linux.tar.gz\n",
        "  !rm montreal-forced-aligner_linux.tar.gz\n",
        "  !wget https://www.openslr.org/resources/11/librispeech-lexicon.txt\n",
        "\n",
        "  !montreal-forced-aligner/lib/align temp_pos_mcv librispeech-lexicon.txt montreal-forced-aligner/pretrained_models/english.zip temp_pos_mcv_aligned\n",
        "\n",
        "  tg_files = [f for f in os.listdir('temp_pos_mcv_aligned') if os.path.isfile(os.path.join('temp_pos_mcv_aligned', f))]\n",
        "\n",
        "  for tg_file in tg_files:\n",
        "      convert2wordlevelwav(corpus_dir='temp_pos_mcv',aligned_dir='temp_pos_mcv_aligned'\n",
        "      ,results_dir='temp_pos', file_tg=tg_file,only_wake_word=True,wake_word=wakeword)\n",
        "\n",
        "\n",
        "  # Clean temp folders\n",
        "  if os.path.isdir('temp_pos_mcv'):\n",
        "    shutil.rmtree('temp_pos_mcv')\n",
        "  if os.path.isdir('temp_pos_mcv_aligned'):\n",
        "    shutil.rmtree('temp_pos_mcv_aligned') \n",
        "  if os.path.isdir('montreal-forced-aligner'):\n",
        "    shutil.rmtree('montreal-forced-aligner') \n",
        "  if os.path.isfile('librispeech-lexicon.txt'):\n",
        "    os.remove('librispeech-lexicon.txt') \n",
        "\n",
        "  os.chdir('../')\n"
      ],
      "execution_count": 376,
      "outputs": []
    },
    {
      "cell_type": "markdown",
      "metadata": {
        "id": "pcDdgcY9OLdV"
      },
      "source": [
        "# Create negative examples"
      ]
    },
    {
      "cell_type": "code",
      "metadata": {
        "id": "IrDNpLy3zt9Q"
      },
      "source": [
        "df_neg_mcv = check_fornotwake (wakeword,mcv_validated)\n",
        "convert_mp3towav(input_df=df_neg_mcv,temp_corpus=current_training+'/temp_neg_mcv',num=int(num_negative_samples/3))"
      ],
      "execution_count": 377,
      "outputs": []
    },
    {
      "cell_type": "code",
      "metadata": {
        "id": "sJ00rZlZ1M-6"
      },
      "source": [
        "for i in range(min(int(num_negative_samples/3),len(df_neg_mcv))):\n",
        "    createchunks(path=df_neg_mcv.loc[i]['path'],duration=wake_duration, sentence_index=i,temp_neg_dir=current_training+'/temp_neg')\n",
        "\n",
        "if os.path.isdir(current_training+'/temp_neg_mcv'):\n",
        "    shutil.rmtree(current_training+'/temp_neg_mcv')    "
      ],
      "execution_count": 378,
      "outputs": []
    },
    {
      "cell_type": "code",
      "metadata": {
        "colab": {
          "base_uri": "https://localhost:8080/",
          "height": 53
        },
        "id": "jPw1efXmGB2b",
        "outputId": "0c6d2ed1-b83b-4819-f370-7ea28c01986f"
      },
      "source": [
        "'''\n",
        "sounddata = librosa.core.load('wake_me_model_training_7/temp_neg/negative_5_1.wav', sr=16000, mono=True)[0]\n",
        "print(len(sounddata))\n",
        "Audio(sounddata,rate=16000)\n",
        "'''"
      ],
      "execution_count": 250,
      "outputs": [
        {
          "output_type": "execute_result",
          "data": {
            "application/vnd.google.colaboratory.intrinsic+json": {
              "type": "string"
            },
            "text/plain": [
              "\"\\nsounddata = librosa.core.load('wake_me_model_training_7/temp_neg/negative_5_1.wav', sr=16000, mono=True)[0]\\nprint(len(sounddata))\\nAudio(sounddata,rate=16000)\\n\""
            ]
          },
          "metadata": {},
          "execution_count": 250
        }
      ]
    },
    {
      "cell_type": "markdown",
      "metadata": {
        "id": "S5jjktHS7ZVk"
      },
      "source": [
        "# Model Training"
      ]
    },
    {
      "cell_type": "markdown",
      "metadata": {
        "id": "5-g-wa4A7wB1"
      },
      "source": [
        "## Prepare collaterals for model training"
      ]
    },
    {
      "cell_type": "markdown",
      "metadata": {
        "id": "5pyVhWct96rQ"
      },
      "source": [
        "### Utility functions"
      ]
    },
    {
      "cell_type": "code",
      "metadata": {
        "id": "zK59FN8YHg6f"
      },
      "source": [
        "wakedetect = ['positive','negative']"
      ],
      "execution_count": 379,
      "outputs": []
    },
    {
      "cell_type": "code",
      "metadata": {
        "id": "dmgmx9l8-CET"
      },
      "source": [
        "def decode_audio(audio_binary):\n",
        "  audio, _ = tf.audio.decode_wav(audio_binary)\n",
        "  return tf.squeeze(audio, axis=-1)\n",
        "\n",
        "def get_waveform_and_label(filenamelabel):\n",
        "  label = filenamelabel[1]\n",
        "  audio_binary = tf.io.read_file(filenamelabel[0])\n",
        "  waveform = decode_audio(audio_binary)\n",
        "  zero_padding = tf.zeros([int(float(filenamelabel[2])*16000)] - tf.shape(waveform), dtype=tf.float32)\n",
        "  waveform = tf.concat([waveform, zero_padding], 0)\n",
        "\n",
        "  return waveform, label, filenamelabel[2]"
      ],
      "execution_count": 380,
      "outputs": []
    },
    {
      "cell_type": "code",
      "metadata": {
        "id": "g-n868DA-Gif"
      },
      "source": [
        "'''\n",
        "Various augmentation functions\n",
        "'''\n",
        "def add_normal_noise(wav,noise_level=0.005):\n",
        "  return wav + noise_level*np.random.normal(0,1,len(wav))\n",
        "def shift_wave(wav,roll=3):\n",
        "  return np.roll(wav,int(len(wav)/roll))  \n",
        "def stretch_wave(wav,factor=0.4):\n",
        "  return librosa.effects.time_stretch(wav.numpy(),factor)\n",
        "def pitchshift_wave(wav,shift_steps=-2):\n",
        "  return librosa.effects.pitch_shift(wav.numpy(),len(wav.numpy()),shift_steps) "
      ],
      "execution_count": 381,
      "outputs": []
    },
    {
      "cell_type": "code",
      "metadata": {
        "id": "skmWnrNGU391"
      },
      "source": [
        "'''\n",
        "spectrogram\n",
        "'''\n",
        "\n",
        "def get_spectrogram(waveform):\n",
        "  # Padding for files with less than 3200 samples\n",
        "  duration=1.5\n",
        "  zero_padding = tf.zeros([int(duration*16000)] - tf.shape(waveform), dtype=tf.float32)\n",
        "\n",
        "  # Concatenate audio with padding so that all audio clips will be of the \n",
        "\n",
        "  waveform = tf.cast(waveform, tf.float32)\n",
        "  equal_length = tf.concat([waveform, zero_padding], 0)\n",
        "  spectrogram = tf.signal.stft(\n",
        "      equal_length, frame_length=255, frame_step=64)\n",
        "  spectrogram = tf.abs(spectrogram)\n",
        "\n",
        "  return spectrogram"
      ],
      "execution_count": 383,
      "outputs": []
    },
    {
      "cell_type": "code",
      "metadata": {
        "id": "RQ9jBADGof15"
      },
      "source": [
        "def get_spectrogram_and_label_id(audio, label, duration):\n",
        "  spectrogram = get_spectrogram(audio)\n",
        "  spectrogram = tf.expand_dims(spectrogram, -1)\n",
        "  label_id = tf.argmax(label == ['positive','negative'])\n",
        "  return spectrogram, label_id, float(duration)"
      ],
      "execution_count": 384,
      "outputs": []
    },
    {
      "cell_type": "code",
      "metadata": {
        "id": "YZqOa5DRezbh"
      },
      "source": [
        "def preprocess_dataset(files):\n",
        "  files_ds = tf.data.Dataset.from_tensor_slices(files)\n",
        "  output_ds = files_ds.map(get_waveform_and_label, num_parallel_calls=AUTOTUNE)\n",
        "  output_ds = output_ds.map(\n",
        "      get_spectrogram_and_label_id,  num_parallel_calls=AUTOTUNE)\n",
        "  return output_ds"
      ],
      "execution_count": 385,
      "outputs": []
    },
    {
      "cell_type": "markdown",
      "metadata": {
        "id": "U_M3QoZlcdJl"
      },
      "source": [
        "#### Functions for debugging"
      ]
    },
    {
      "cell_type": "code",
      "metadata": {
        "id": "KHRYRBbWb4FB"
      },
      "source": [
        "def plot_spectrogram(spectrogram, ax):\n",
        "  # Convert to frequencies to log scale and transpose so that the time is\n",
        "  # represented in the x-axis (columns).\n",
        "  log_spec = np.log(spectrogram.T)\n",
        "  height = log_spec.shape[0]\n",
        "  width = log_spec.shape[1]\n",
        "  X = np.linspace(0, np.size(spectrogram), num=width, dtype=int)\n",
        "  Y = range(height)\n",
        "  ax.pcolormesh(X, Y, log_spec)"
      ],
      "execution_count": 386,
      "outputs": []
    },
    {
      "cell_type": "markdown",
      "metadata": {
        "id": "ryoVX3Js78T3"
      },
      "source": [
        "### Data prep"
      ]
    },
    {
      "cell_type": "code",
      "metadata": {
        "colab": {
          "base_uri": "https://localhost:8080/"
        },
        "id": "1cXkMC6kBpFI",
        "outputId": "0c30ab6d-7bd6-4682-c58b-e54be5a08642"
      },
      "source": [
        "# Read names of negative and positive samples\n",
        "\n",
        "neg_samples = glob.glob(current_training+'/temp_neg/*.wav')[0:num_negative_samples]\n",
        "pos_samples = glob.glob(current_training+'/temp_pos/*.wav')\n",
        "\n",
        "filenamelabels_neg_samples = []\n",
        "for i in range(len(neg_samples)):\n",
        "  filenamelabels_neg_samples.append([neg_samples[i],'negative',str(wake_duration)])\n",
        "\n",
        "filenamelabels_pos_samples = []\n",
        "\n",
        "for i in range(len(pos_samples)):\n",
        "  filenamelabels_pos_samples.append([pos_samples[i],'positive',str(wake_duration)])\n",
        "\n",
        "print(len(filenamelabels_neg_samples),len(filenamelabels_pos_samples))"
      ],
      "execution_count": 387,
      "outputs": [
        {
          "output_type": "stream",
          "text": [
            "100 96\n"
          ],
          "name": "stdout"
        }
      ]
    },
    {
      "cell_type": "code",
      "metadata": {
        "id": "9dacBMqHByh5"
      },
      "source": [
        "# Create additional training samples\n",
        "\n",
        "pos_train_files_aug = []\n",
        "\n",
        "if (need_aug == True):\n",
        "  for i in range(int(aug_size/4)):\n",
        "      #print(i,train_files[i])\n",
        "      j = i%10\n",
        "      waveform, label,_ = get_waveform_and_label(filenamelabels_pos_samples[j])\n",
        "      \n",
        "      if (label == 'positive'):\n",
        "        noise_wav = add_normal_noise(waveform)\n",
        "        shifted_wav = shift_wave(waveform)\n",
        "        lowpitch_wav = pitchshift_wave(waveform,shift_steps=-2)\n",
        "        highpitch_wav = pitchshift_wave(waveform,shift_steps=2)\n",
        "        \n",
        "        filepath, label, _ = filenamelabels_pos_samples[j]\n",
        "        filename = filepath.split('/')[-1].split('.')[0]\n",
        "\n",
        "        filename_noise = os.path.join(current_training,'temp_pos',filename+str(i)+'_noise''.wav')\n",
        "        filename_shifted = os.path.join(current_training,'temp_pos',filename+str(i)+'_shifted'+'.wav')\n",
        "        filename_lowpitch = os.path.join(current_training,'temp_pos',filename+str(i)+'_lowpitch'+'.wav')\n",
        "        filename_highpitch = os.path.join(current_training,'temp_pos',filename+str(i)+'_highpitch'+'.wav')\n",
        "\n",
        "        sf.write(filename_noise,noise_wav,16000)\n",
        "        sf.write(filename_shifted,shifted_wav,16000)\n",
        "        sf.write(filename_lowpitch,lowpitch_wav,16000)\n",
        "        sf.write(filename_highpitch,highpitch_wav,16000)\n",
        "        \n",
        "        pos_train_files_aug.append([filename_noise,label,str(wake_duration)])\n",
        "        pos_train_files_aug.append([filename_shifted,label,str(wake_duration)])\n",
        "        pos_train_files_aug.append([filename_lowpitch,label,str(wake_duration)])\n",
        "        pos_train_files_aug.append([filename_highpitch,label,str(wake_duration)])\n",
        "  \n",
        "  filenamelabels_pos_samples = filenamelabels_pos_samples+pos_train_files_aug"
      ],
      "execution_count": 388,
      "outputs": []
    },
    {
      "cell_type": "code",
      "metadata": {
        "colab": {
          "base_uri": "https://localhost:8080/"
        },
        "id": "g60DTn4T3k6y",
        "outputId": "5665bbc9-34fd-4cd6-9a0c-fec366c517c9"
      },
      "source": [
        "# Split data set for train/test/val\n",
        "filenamelabels = filenamelabels_pos_samples + filenamelabels_neg_samples\n",
        "random.shuffle(filenamelabels)\n",
        "\n",
        "print(len(filenamelabels))\n",
        "\n",
        "full_size = len(filenamelabels)\n",
        "train_size = int(0.7*full_size)\n",
        "val_size = int(0.1*full_size)\n",
        "\n",
        "train_files = filenamelabels[:train_size]\n",
        "val_files = filenamelabels[train_size: train_size + val_size]\n",
        "test_files = filenamelabels[-val_size:]\n",
        "\n",
        "print(len(train_files),len(val_files),len(test_files))"
      ],
      "execution_count": 389,
      "outputs": [
        {
          "output_type": "stream",
          "text": [
            "196\n",
            "137 19 19\n"
          ],
          "name": "stdout"
        }
      ]
    },
    {
      "cell_type": "markdown",
      "metadata": {
        "id": "xU7RAgDZEIwR"
      },
      "source": [
        "### Read data using tf"
      ]
    },
    {
      "cell_type": "code",
      "metadata": {
        "id": "p8lUEDYSEIIa"
      },
      "source": [
        "train_files = tf.random.shuffle(train_files)\n",
        "val_files = tf.random.shuffle(val_files)\n",
        "test_files = tf.random.shuffle(test_files)"
      ],
      "execution_count": 390,
      "outputs": []
    },
    {
      "cell_type": "code",
      "metadata": {
        "id": "XU--q6Kj_PLb"
      },
      "source": [
        "AUTOTUNE = tf.data.AUTOTUNE\n",
        "files_train = tf.data.Dataset.from_tensor_slices(train_files)\n",
        "waveform_train = files_train.map(get_waveform_and_label,num_parallel_calls=AUTOTUNE)"
      ],
      "execution_count": 391,
      "outputs": []
    },
    {
      "cell_type": "markdown",
      "metadata": {
        "id": "b9vp7yVixsh2"
      },
      "source": [
        "#### Debug check"
      ]
    },
    {
      "cell_type": "code",
      "metadata": {
        "id": "FAvpIjO9ERNt"
      },
      "source": [
        "debug_mode = True"
      ],
      "execution_count": 392,
      "outputs": []
    },
    {
      "cell_type": "code",
      "metadata": {
        "colab": {
          "base_uri": "https://localhost:8080/",
          "height": 716
        },
        "id": "Wzh8TVx7Ea0p",
        "outputId": "faebe53d-1228-4a3e-a7ff-c8ccea9762b6"
      },
      "source": [
        "if (debug_mode == True):\n",
        "  rows = 2\n",
        "  cols = 2\n",
        "  n = rows*cols\n",
        "  fig, axes = plt.subplots(rows, cols, figsize=(10, 12))\n",
        "  for i, (audio, label,_) in enumerate(waveform_train.take(n)):\n",
        "    #print(audio.numpy())\n",
        "    #print(label)\n",
        "    r = i // cols\n",
        "    c = i % cols\n",
        "    ax = axes[r][c]\n",
        "    ax.plot(audio.numpy())\n",
        "    ax.set_yticks(np.arange(-1.2, 1.2, 0.2))\n",
        "    label = label.numpy().decode('utf-8')\n",
        "    ax.set_title(label)\n",
        "\n",
        "  plt.show() "
      ],
      "execution_count": 393,
      "outputs": [
        {
          "output_type": "display_data",
          "data": {
            "image/png": "[encoded data removed]",
            "text/plain": [
              "<Figure size 720x864 with 4 Axes>"
            ]
          },
          "metadata": {
            "needs_background": "light"
          }
        }
      ]
    },
    {
      "cell_type": "code",
      "metadata": {
        "colab": {
          "base_uri": "https://localhost:8080/",
          "height": 53
        },
        "id": "rY8Zz2rwLYPG",
        "outputId": "b7e34243-6ca7-4833-fb5c-9be4460f6b15"
      },
      "source": [
        "'''\n",
        "# just an example\n",
        "sounddata = librosa.core.load('wake_me_model_training_3/temp_pos/610db6e5b3a7b60345b49a00.wav', sr=16000, mono=True)[0]\n",
        "print(len(sounddata))\n",
        "Audio(sounddata,rate=16000)\n",
        "'''"
      ],
      "execution_count": 394,
      "outputs": [
        {
          "output_type": "execute_result",
          "data": {
            "application/vnd.google.colaboratory.intrinsic+json": {
              "type": "string"
            },
            "text/plain": [
              "\"\\n# just an example\\nsounddata = librosa.core.load('wake_me_model_training_3/temp_pos/610db6e5b3a7b60345b49a00.wav', sr=16000, mono=True)[0]\\nprint(len(sounddata))\\nAudio(sounddata,rate=16000)\\n\""
            ]
          },
          "metadata": {},
          "execution_count": 394
        }
      ]
    },
    {
      "cell_type": "code",
      "metadata": {
        "id": "IygUVObTEetz",
        "colab": {
          "base_uri": "https://localhost:8080/",
          "height": 605
        },
        "outputId": "8f098862-da18-4708-8c63-40dd3b9bd46a"
      },
      "source": [
        "if (debug_mode==True):\n",
        "  for waveform, label,_ in waveform_train.take(5):\n",
        "    label = label.numpy().decode('utf-8')\n",
        "    spectrogram = get_spectrogram(waveform)\n",
        "\n",
        "  print('Label:', label)\n",
        "  print('Waveform shape:', waveform.shape)\n",
        "  print('Spectrogram shape:', spectrogram.shape)\n",
        "\n",
        "  fig, axes = plt.subplots(2, figsize=(12, 8))\n",
        "  timescale = np.arange(waveform.shape[0])\n",
        "  axes[0].plot(timescale, waveform.numpy())\n",
        "  axes[0].set_title('Waveform')\n",
        "  axes[0].set_xlim([0, 48000])\n",
        "  plot_spectrogram(spectrogram.numpy(), axes[1])\n",
        "  axes[1].set_title('Spectrogram')\n",
        "  plt.show()\n"
      ],
      "execution_count": 395,
      "outputs": [
        {
          "output_type": "stream",
          "text": [
            "Label: positive\n",
            "Waveform shape: (24000,)\n",
            "Spectrogram shape: (372, 129)\n"
          ],
          "name": "stdout"
        },
        {
          "output_type": "stream",
          "text": [
            "/usr/local/lib/python3.7/dist-packages/ipykernel_launcher.py:4: RuntimeWarning: divide by zero encountered in log\n",
            "  after removing the cwd from sys.path.\n"
          ],
          "name": "stderr"
        },
        {
          "output_type": "display_data",
          "data": {
            "image/png": "[encoded data removed]",
            "text/plain": [
              "<Figure size 864x576 with 2 Axes>"
            ]
          },
          "metadata": {
            "needs_background": "light"
          }
        }
      ]
    },
    {
      "cell_type": "markdown",
      "metadata": {
        "id": "v3-YdUD7oRS5"
      },
      "source": [
        "## Prepare dataset for batching,training..."
      ]
    },
    {
      "cell_type": "code",
      "metadata": {
        "id": "r13yJb4vcIJk",
        "colab": {
          "base_uri": "https://localhost:8080/"
        },
        "outputId": "80a98013-e74f-463f-df9f-cc58b8220c5a"
      },
      "source": [
        "# Preproc data sets\n",
        "train_ds = preprocess_dataset(train_files)\n",
        "val_ds = preprocess_dataset(val_files)\n",
        "test_ds = preprocess_dataset(test_files)\n",
        "\n",
        "# Batch data sets\n",
        "batch_size = 64\n",
        "train_ds = train_ds.batch(batch_size)\n",
        "val_ds = val_ds.batch(batch_size)\n",
        "\n",
        "# Cache\n",
        "train_ds = train_ds.cache().prefetch(AUTOTUNE)\n",
        "val_ds = val_ds.cache().prefetch(AUTOTUNE)\n",
        "\n",
        "\n",
        "# Get input shape of images\n",
        "\n",
        "spectrogram_train = waveform_train.map(\n",
        "    get_spectrogram_and_label_id, num_parallel_calls=AUTOTUNE)\n",
        "\n",
        "for spectrogram,_,_ in spectrogram_train.take(1):\n",
        "  input_shape = spectrogram.shape\n",
        "print('Input shape:', input_shape)"
      ],
      "execution_count": 396,
      "outputs": [
        {
          "output_type": "stream",
          "text": [
            "Input shape: (372, 129, 1)\n"
          ],
          "name": "stdout"
        }
      ]
    },
    {
      "cell_type": "markdown",
      "metadata": {
        "id": "6dFmuxzJzdPT"
      },
      "source": [
        "## Simple CNN"
      ]
    },
    {
      "cell_type": "markdown",
      "metadata": {
        "id": "SpFpZxhWyq7L"
      },
      "source": [
        "### Initialize model"
      ]
    },
    {
      "cell_type": "code",
      "metadata": {
        "colab": {
          "base_uri": "https://localhost:8080/"
        },
        "id": "Yn3cE7GOdPX7",
        "outputId": "108cf82e-2fb2-42ca-db7b-92da1744dc82"
      },
      "source": [
        "num_labels = len(wakedetect)\n",
        "norm_layer = preprocessing.Normalization()\n",
        "norm_layer.adapt(spectrogram_train.map(lambda x, _, __: x))\n",
        "\n",
        "model = models.Sequential([\n",
        "    layers.Input(shape=input_shape),\n",
        "    preprocessing.Resizing(32, 32), \n",
        "    norm_layer,\n",
        "    layers.Conv2D(32, 3, activation='relu'),\n",
        "    layers.Conv2D(64, 3, activation='relu'),\n",
        "    layers.MaxPooling2D(),\n",
        "    layers.Dropout(0.25),\n",
        "    layers.Flatten(),\n",
        "    layers.Dense(128, activation='relu'),\n",
        "    layers.Dropout(0.5),\n",
        "    layers.Dense(num_labels),\n",
        "])\n",
        "\n",
        "model.summary()"
      ],
      "execution_count": 397,
      "outputs": [
        {
          "output_type": "stream",
          "text": [
            "Model: \"sequential_4\"\n",
            "_________________________________________________________________\n",
            "Layer (type)                 Output Shape              Param #   \n",
            "=================================================================\n",
            "resizing_4 (Resizing)        (None, 32, 32, 1)         0         \n",
            "_________________________________________________________________\n",
            "normalization_15 (Normalizat (None, 32, 32, 1)         3         \n",
            "_________________________________________________________________\n",
            "conv2d_8 (Conv2D)            (None, 30, 30, 32)        320       \n",
            "_________________________________________________________________\n",
            "conv2d_9 (Conv2D)            (None, 28, 28, 64)        18496     \n",
            "_________________________________________________________________\n",
            "max_pooling2d_4 (MaxPooling2 (None, 14, 14, 64)        0         \n",
            "_________________________________________________________________\n",
            "dropout_8 (Dropout)          (None, 14, 14, 64)        0         \n",
            "_________________________________________________________________\n",
            "flatten_4 (Flatten)          (None, 12544)             0         \n",
            "_________________________________________________________________\n",
            "dense_8 (Dense)              (None, 128)               1605760   \n",
            "_________________________________________________________________\n",
            "dropout_9 (Dropout)          (None, 128)               0         \n",
            "_________________________________________________________________\n",
            "dense_9 (Dense)              (None, 2)                 258       \n",
            "=================================================================\n",
            "Total params: 1,624,837\n",
            "Trainable params: 1,624,834\n",
            "Non-trainable params: 3\n",
            "_________________________________________________________________\n"
          ],
          "name": "stdout"
        }
      ]
    },
    {
      "cell_type": "markdown",
      "metadata": {
        "id": "qn7-0afxzW1p"
      },
      "source": [
        "###Compile model"
      ]
    },
    {
      "cell_type": "code",
      "metadata": {
        "id": "RYE5sasxy0rV"
      },
      "source": [
        "model.compile(\n",
        "    optimizer=tf.keras.optimizers.Adam(),\n",
        "    loss=tf.keras.losses.SparseCategoricalCrossentropy(from_logits=True),\n",
        "    metrics=['accuracy'],\n",
        ")"
      ],
      "execution_count": 398,
      "outputs": []
    },
    {
      "cell_type": "markdown",
      "metadata": {
        "id": "0vPQkYkKznCo"
      },
      "source": [
        "### Train model"
      ]
    },
    {
      "cell_type": "code",
      "metadata": {
        "colab": {
          "base_uri": "https://localhost:8080/"
        },
        "id": "XTAYSLLqzZXL",
        "outputId": "35883d44-4008-4374-9730-00900429de91"
      },
      "source": [
        "EPOCHS = 30\n",
        "history = model.fit(\n",
        "    train_ds, \n",
        "    validation_data=val_ds,  \n",
        "    epochs=EPOCHS,\n",
        "    callbacks=tf.keras.callbacks.EarlyStopping(verbose=1, patience=2)\n",
        "    )"
      ],
      "execution_count": 399,
      "outputs": [
        {
          "output_type": "stream",
          "text": [
            "Epoch 1/30\n",
            "3/3 [==============================] - 2s 459ms/step - loss: 0.9512 - accuracy: 0.6277 - val_loss: 0.4723 - val_accuracy: 0.8947\n",
            "Epoch 2/30\n",
            "3/3 [==============================] - 0s 140ms/step - loss: 0.5163 - accuracy: 0.8759 - val_loss: 0.4035 - val_accuracy: 0.8947\n",
            "Epoch 3/30\n",
            "3/3 [==============================] - 0s 137ms/step - loss: 0.4419 - accuracy: 0.8686 - val_loss: 0.4050 - val_accuracy: 0.8947\n",
            "Epoch 4/30\n",
            "3/3 [==============================] - 0s 139ms/step - loss: 0.4470 - accuracy: 0.8905 - val_loss: 0.4733 - val_accuracy: 0.8947\n",
            "Epoch 00004: early stopping\n"
          ],
          "name": "stdout"
        }
      ]
    },
    {
      "cell_type": "markdown",
      "metadata": {
        "id": "JWhwkquzz3Io"
      },
      "source": [
        "### Evaluate model"
      ]
    },
    {
      "cell_type": "code",
      "metadata": {
        "colab": {
          "base_uri": "https://localhost:8080/",
          "height": 265
        },
        "id": "kHMWrRobz6rl",
        "outputId": "0ed8c894-a122-46c6-ef2d-40f82256205c"
      },
      "source": [
        "metrics = history.history\n",
        "plt.plot(history.epoch, metrics['loss'], metrics['val_loss'])\n",
        "plt.legend(['loss', 'val_loss'])\n",
        "plt.show()"
      ],
      "execution_count": 400,
      "outputs": [
        {
          "output_type": "display_data",
          "data": {
            "image/png": "[encoded data removed]",
            "text/plain": [
              "<Figure size 432x288 with 1 Axes>"
            ]
          },
          "metadata": {
            "needs_background": "light"
          }
        }
      ]
    },
    {
      "cell_type": "code",
      "metadata": {
        "id": "9r5KU1yUz-PS"
      },
      "source": [
        "test_audio = []\n",
        "test_labels = []\n",
        "\n",
        "for audio, label, _ in test_ds:\n",
        "  test_audio.append(audio.numpy())\n",
        "  test_labels.append(label.numpy())\n",
        "\n",
        "test_audio = np.array(test_audio)\n",
        "test_labels = np.array(test_labels)"
      ],
      "execution_count": 401,
      "outputs": []
    },
    {
      "cell_type": "code",
      "metadata": {
        "colab": {
          "base_uri": "https://localhost:8080/"
        },
        "id": "dY1n1Fi_0DnF",
        "outputId": "2a5f20e7-dc66-48ab-fce3-e59c18159393"
      },
      "source": [
        "y_pred = np.argmax(model.predict(test_audio), axis=1)\n",
        "y_true = test_labels\n",
        "\n",
        "test_acc = sum(y_pred == y_true) / len(y_true)\n",
        "print(f'Test set accuracy for simple cnn: {test_acc:.0%}')"
      ],
      "execution_count": 402,
      "outputs": [
        {
          "output_type": "stream",
          "text": [
            "Test set accuracy for simple cnn: 100%\n"
          ],
          "name": "stdout"
        }
      ]
    },
    {
      "cell_type": "markdown",
      "metadata": {
        "id": "9_H9Zl1N0Ur6"
      },
      "source": [
        "### Save model"
      ]
    },
    {
      "cell_type": "code",
      "metadata": {
        "colab": {
          "base_uri": "https://localhost:8080/"
        },
        "id": "LhyEBtTN0KVA",
        "outputId": "74d489d9-d716-4a93-db4a-25dfd381b968"
      },
      "source": [
        "model_path = current_training +\"/model1.h5\"\n",
        "tf.saved_model.save(model, model_path)"
      ],
      "execution_count": 403,
      "outputs": [
        {
          "output_type": "stream",
          "text": [
            "INFO:tensorflow:Assets written to: wake_me_model_training_8/model1.h5/assets\n"
          ],
          "name": "stdout"
        }
      ]
    },
    {
      "cell_type": "code",
      "metadata": {
        "id": "-OL2jY1q0w_b"
      },
      "source": [
        ""
      ],
      "execution_count": null,
      "outputs": []
    }
  ]
}